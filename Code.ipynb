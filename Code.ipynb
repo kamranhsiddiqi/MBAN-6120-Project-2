{
 "cells": [
  {
   "cell_type": "code",
   "execution_count": 1,
   "metadata": {},
   "outputs": [
    {
     "data": {
      "text/html": [
       "<div>\n",
       "<style>\n",
       "    .dataframe thead tr:only-child th {\n",
       "        text-align: right;\n",
       "    }\n",
       "\n",
       "    .dataframe thead th {\n",
       "        text-align: left;\n",
       "    }\n",
       "\n",
       "    .dataframe tbody tr th {\n",
       "        vertical-align: top;\n",
       "    }\n",
       "</style>\n",
       "<table border=\"1\" class=\"dataframe\">\n",
       "  <thead>\n",
       "    <tr style=\"text-align: right;\">\n",
       "      <th></th>\n",
       "      <th>AVGGIFT</th>\n",
       "      <th>FISTDATE</th>\n",
       "      <th>INCOME</th>\n",
       "      <th>LASTDATE</th>\n",
       "      <th>LASTGIFT</th>\n",
       "      <th>NAME</th>\n",
       "      <th>PEPSTRFL</th>\n",
       "      <th>RFA_2A</th>\n",
       "      <th>RFA_2F</th>\n",
       "      <th>TARGET_B</th>\n",
       "      <th>WEALTH_INDEX</th>\n",
       "    </tr>\n",
       "  </thead>\n",
       "  <tbody>\n",
       "    <tr>\n",
       "      <th>7140</th>\n",
       "      <td>8.928571</td>\n",
       "      <td>8701</td>\n",
       "      <td>5</td>\n",
       "      <td>9511</td>\n",
       "      <td>14.0</td>\n",
       "      <td>Daniel E. Singh</td>\n",
       "      <td>X</td>\n",
       "      <td>E</td>\n",
       "      <td>1</td>\n",
       "      <td>0</td>\n",
       "      <td>8.38</td>\n",
       "    </tr>\n",
       "    <tr>\n",
       "      <th>10029</th>\n",
       "      <td>13.571429</td>\n",
       "      <td>8701</td>\n",
       "      <td>4</td>\n",
       "      <td>9510</td>\n",
       "      <td>15.0</td>\n",
       "      <td>Brandon J. O'Pennell Sr.</td>\n",
       "      <td>X</td>\n",
       "      <td>F</td>\n",
       "      <td>1</td>\n",
       "      <td>0</td>\n",
       "      <td>5.92</td>\n",
       "    </tr>\n",
       "    <tr>\n",
       "      <th>35187</th>\n",
       "      <td>20.000000</td>\n",
       "      <td>9409</td>\n",
       "      <td>7</td>\n",
       "      <td>9512</td>\n",
       "      <td>20.0</td>\n",
       "      <td>Liwen A. Pennell</td>\n",
       "      <td>X</td>\n",
       "      <td>F</td>\n",
       "      <td>2</td>\n",
       "      <td>0</td>\n",
       "      <td>3.94</td>\n",
       "    </tr>\n",
       "    <tr>\n",
       "      <th>5602</th>\n",
       "      <td>36.657143</td>\n",
       "      <td>8610</td>\n",
       "      <td>6</td>\n",
       "      <td>9611</td>\n",
       "      <td>43.0</td>\n",
       "      <td>Reshama E. O'Harchwani</td>\n",
       "      <td>X</td>\n",
       "      <td>G</td>\n",
       "      <td>2</td>\n",
       "      <td>0</td>\n",
       "      <td>10.05</td>\n",
       "    </tr>\n",
       "    <tr>\n",
       "      <th>22826</th>\n",
       "      <td>12.142857</td>\n",
       "      <td>9301</td>\n",
       "      <td>1</td>\n",
       "      <td>9602</td>\n",
       "      <td>15.0</td>\n",
       "      <td>Jaesik E. Saini III</td>\n",
       "      <td>X</td>\n",
       "      <td>F</td>\n",
       "      <td>3</td>\n",
       "      <td>0</td>\n",
       "      <td>1.20</td>\n",
       "    </tr>\n",
       "  </tbody>\n",
       "</table>\n",
       "</div>"
      ],
      "text/plain": [
       "         AVGGIFT  FISTDATE  INCOME  LASTDATE  LASTGIFT  \\\n",
       "7140    8.928571      8701       5      9511      14.0   \n",
       "10029  13.571429      8701       4      9510      15.0   \n",
       "35187  20.000000      9409       7      9512      20.0   \n",
       "5602   36.657143      8610       6      9611      43.0   \n",
       "22826  12.142857      9301       1      9602      15.0   \n",
       "\n",
       "                           NAME PEPSTRFL RFA_2A  RFA_2F  TARGET_B  \\\n",
       "7140            Daniel E. Singh        X      E       1         0   \n",
       "10029  Brandon J. O'Pennell Sr.        X      F       1         0   \n",
       "35187          Liwen A. Pennell        X      F       2         0   \n",
       "5602     Reshama E. O'Harchwani        X      G       2         0   \n",
       "22826       Jaesik E. Saini III        X      F       3         0   \n",
       "\n",
       "       WEALTH_INDEX  \n",
       "7140           8.38  \n",
       "10029          5.92  \n",
       "35187          3.94  \n",
       "5602          10.05  \n",
       "22826          1.20  "
      ]
     },
     "execution_count": 1,
     "metadata": {},
     "output_type": "execute_result"
    }
   ],
   "source": [
    "#read data\n",
    "\n",
    "import pandas as pd\n",
    "\n",
    "df = pd.read_json(\"assess2_data.json\")\n",
    "df = df.sample(frac=1)\n",
    "\n",
    "df.head()"
   ]
  },
  {
   "cell_type": "code",
   "execution_count": 2,
   "metadata": {},
   "outputs": [
    {
     "name": "stdout",
     "output_type": "stream",
     "text": [
      "(set([1, 2, 3, 4, 5, 6, 7]), set([u'X']), set([u'-9999', u'E', u'D', u'G', u'F']), set([1, 2, 3, 4]), set([0, 1]))\n"
     ]
    }
   ],
   "source": [
    "print(set(df[\"INCOME\"]), set(df[\"PEPSTRFL\"]), set(df[\"RFA_2A\"]), set(df[\"RFA_2F\"]), set(df[\"TARGET_B\"])) #View unique values for each attribute"
   ]
  },
  {
   "cell_type": "code",
   "execution_count": 3,
   "metadata": {},
   "outputs": [
    {
     "data": {
      "text/plain": [
       "(35275, 11)"
      ]
     },
     "execution_count": 3,
     "metadata": {},
     "output_type": "execute_result"
    }
   ],
   "source": [
    "df.shape"
   ]
  },
  {
   "cell_type": "code",
   "execution_count": 4,
   "metadata": {
    "collapsed": true
   },
   "outputs": [],
   "source": [
    "# Data cleaning\n",
    "updated_df = df[df[\"RFA_2A\"] != \"-9999\"] #remove error value -9999"
   ]
  },
  {
   "cell_type": "code",
   "execution_count": 5,
   "metadata": {},
   "outputs": [
    {
     "data": {
      "text/plain": [
       "(35274, 11)"
      ]
     },
     "execution_count": 5,
     "metadata": {},
     "output_type": "execute_result"
    }
   ],
   "source": [
    "updated_df.shape"
   ]
  },
  {
   "cell_type": "code",
   "execution_count": 6,
   "metadata": {},
   "outputs": [
    {
     "name": "stderr",
     "output_type": "stream",
     "text": [
      "C:\\Users\\Kamran\\Anaconda2\\lib\\site-packages\\ipykernel_launcher.py:11: SettingWithCopyWarning: \n",
      "A value is trying to be set on a copy of a slice from a DataFrame\n",
      "\n",
      "See the caveats in the documentation: http://pandas.pydata.org/pandas-docs/stable/indexing.html#indexing-view-versus-copy\n",
      "  # This is added back by InteractiveShellApp.init_path()\n",
      "C:\\Users\\Kamran\\Anaconda2\\lib\\site-packages\\pandas\\core\\generic.py:5233: SettingWithCopyWarning: \n",
      "A value is trying to be set on a copy of a slice from a DataFrame\n",
      "\n",
      "See the caveats in the documentation: http://pandas.pydata.org/pandas-docs/stable/indexing.html#indexing-view-versus-copy\n",
      "  self._update_inplace(new_data)\n",
      "C:\\Users\\Kamran\\Anaconda2\\lib\\site-packages\\IPython\\core\\interactiveshell.py:2882: SettingWithCopyWarning: \n",
      "A value is trying to be set on a copy of a slice from a DataFrame\n",
      "\n",
      "See the caveats in the documentation: http://pandas.pydata.org/pandas-docs/stable/indexing.html#indexing-view-versus-copy\n",
      "  exec(code_obj, self.user_global_ns, self.user_ns)\n"
     ]
    },
    {
     "data": {
      "text/html": [
       "<div>\n",
       "<style>\n",
       "    .dataframe thead tr:only-child th {\n",
       "        text-align: right;\n",
       "    }\n",
       "\n",
       "    .dataframe thead th {\n",
       "        text-align: left;\n",
       "    }\n",
       "\n",
       "    .dataframe tbody tr th {\n",
       "        vertical-align: top;\n",
       "    }\n",
       "</style>\n",
       "<table border=\"1\" class=\"dataframe\">\n",
       "  <thead>\n",
       "    <tr style=\"text-align: right;\">\n",
       "      <th></th>\n",
       "      <th>AVGGIFT</th>\n",
       "      <th>FISTDATE</th>\n",
       "      <th>INCOME</th>\n",
       "      <th>LASTDATE</th>\n",
       "      <th>LASTGIFT</th>\n",
       "      <th>NAME</th>\n",
       "      <th>PEPSTRFL</th>\n",
       "      <th>RFA_2A</th>\n",
       "      <th>RFA_2F</th>\n",
       "      <th>TARGET_B</th>\n",
       "      <th>WEALTH_INDEX</th>\n",
       "    </tr>\n",
       "  </thead>\n",
       "  <tbody>\n",
       "    <tr>\n",
       "      <th>7140</th>\n",
       "      <td>8.928571</td>\n",
       "      <td>8701</td>\n",
       "      <td>5</td>\n",
       "      <td>9511</td>\n",
       "      <td>14.0</td>\n",
       "      <td>Daniel E. Singh</td>\n",
       "      <td>X</td>\n",
       "      <td>0</td>\n",
       "      <td>1</td>\n",
       "      <td>0</td>\n",
       "      <td>8.38</td>\n",
       "    </tr>\n",
       "    <tr>\n",
       "      <th>10029</th>\n",
       "      <td>13.571429</td>\n",
       "      <td>8701</td>\n",
       "      <td>4</td>\n",
       "      <td>9510</td>\n",
       "      <td>15.0</td>\n",
       "      <td>Brandon J. O'Pennell Sr.</td>\n",
       "      <td>X</td>\n",
       "      <td>3</td>\n",
       "      <td>1</td>\n",
       "      <td>0</td>\n",
       "      <td>5.92</td>\n",
       "    </tr>\n",
       "    <tr>\n",
       "      <th>35187</th>\n",
       "      <td>20.000000</td>\n",
       "      <td>9409</td>\n",
       "      <td>7</td>\n",
       "      <td>9512</td>\n",
       "      <td>20.0</td>\n",
       "      <td>Liwen A. Pennell</td>\n",
       "      <td>X</td>\n",
       "      <td>3</td>\n",
       "      <td>2</td>\n",
       "      <td>0</td>\n",
       "      <td>3.94</td>\n",
       "    </tr>\n",
       "    <tr>\n",
       "      <th>5602</th>\n",
       "      <td>36.657143</td>\n",
       "      <td>8610</td>\n",
       "      <td>6</td>\n",
       "      <td>9611</td>\n",
       "      <td>43.0</td>\n",
       "      <td>Reshama E. O'Harchwani</td>\n",
       "      <td>X</td>\n",
       "      <td>2</td>\n",
       "      <td>2</td>\n",
       "      <td>0</td>\n",
       "      <td>10.05</td>\n",
       "    </tr>\n",
       "    <tr>\n",
       "      <th>22826</th>\n",
       "      <td>12.142857</td>\n",
       "      <td>9301</td>\n",
       "      <td>1</td>\n",
       "      <td>9602</td>\n",
       "      <td>15.0</td>\n",
       "      <td>Jaesik E. Saini III</td>\n",
       "      <td>X</td>\n",
       "      <td>3</td>\n",
       "      <td>3</td>\n",
       "      <td>0</td>\n",
       "      <td>1.20</td>\n",
       "    </tr>\n",
       "  </tbody>\n",
       "</table>\n",
       "</div>"
      ],
      "text/plain": [
       "         AVGGIFT  FISTDATE  INCOME  LASTDATE  LASTGIFT  \\\n",
       "7140    8.928571      8701       5      9511      14.0   \n",
       "10029  13.571429      8701       4      9510      15.0   \n",
       "35187  20.000000      9409       7      9512      20.0   \n",
       "5602   36.657143      8610       6      9611      43.0   \n",
       "22826  12.142857      9301       1      9602      15.0   \n",
       "\n",
       "                           NAME PEPSTRFL RFA_2A  RFA_2F  TARGET_B  \\\n",
       "7140            Daniel E. Singh        X      0       1         0   \n",
       "10029  Brandon J. O'Pennell Sr.        X      3       1         0   \n",
       "35187          Liwen A. Pennell        X      3       2         0   \n",
       "5602     Reshama E. O'Harchwani        X      2       2         0   \n",
       "22826       Jaesik E. Saini III        X      3       3         0   \n",
       "\n",
       "       WEALTH_INDEX  \n",
       "7140           8.38  \n",
       "10029          5.92  \n",
       "35187          3.94  \n",
       "5602          10.05  \n",
       "22826          1.20  "
      ]
     },
     "execution_count": 6,
     "metadata": {},
     "output_type": "execute_result"
    }
   ],
   "source": [
    "# Data cleaninig\n",
    "\n",
    "alpha_to_numeric = {\n",
    "        \"E\": 0,\n",
    "        \"D\": 1,\n",
    "        \"G\": 2,\n",
    "        \"F\": 3\n",
    "}\n",
    "\n",
    "for alpha in alpha_to_numeric.keys():\n",
    "    updated_df[\"RFA_2A\"][updated_df[\"RFA_2A\"] == alpha] = alpha_to_numeric[alpha]\n",
    "\n",
    "updated_df.head()"
   ]
  },
  {
   "cell_type": "code",
   "execution_count": 7,
   "metadata": {},
   "outputs": [
    {
     "name": "stderr",
     "output_type": "stream",
     "text": [
      "C:\\Users\\Kamran\\Anaconda2\\lib\\site-packages\\ipykernel_launcher.py:4: SettingWithCopyWarning: \n",
      "A value is trying to be set on a copy of a slice from a DataFrame.\n",
      "Try using .loc[row_indexer,col_indexer] = value instead\n",
      "\n",
      "See the caveats in the documentation: http://pandas.pydata.org/pandas-docs/stable/indexing.html#indexing-view-versus-copy\n",
      "  after removing the cwd from sys.path.\n"
     ]
    },
    {
     "data": {
      "text/html": [
       "<div>\n",
       "<style>\n",
       "    .dataframe thead tr:only-child th {\n",
       "        text-align: right;\n",
       "    }\n",
       "\n",
       "    .dataframe thead th {\n",
       "        text-align: left;\n",
       "    }\n",
       "\n",
       "    .dataframe tbody tr th {\n",
       "        vertical-align: top;\n",
       "    }\n",
       "</style>\n",
       "<table border=\"1\" class=\"dataframe\">\n",
       "  <thead>\n",
       "    <tr style=\"text-align: right;\">\n",
       "      <th></th>\n",
       "      <th>AVGGIFT</th>\n",
       "      <th>FISTDATE</th>\n",
       "      <th>INCOME</th>\n",
       "      <th>LASTDATE</th>\n",
       "      <th>LASTGIFT</th>\n",
       "      <th>NAME</th>\n",
       "      <th>PEPSTRFL</th>\n",
       "      <th>RFA_2A</th>\n",
       "      <th>RFA_2F</th>\n",
       "      <th>TARGET_B</th>\n",
       "      <th>WEALTH_INDEX</th>\n",
       "    </tr>\n",
       "  </thead>\n",
       "  <tbody>\n",
       "    <tr>\n",
       "      <th>7140</th>\n",
       "      <td>-0.000111</td>\n",
       "      <td>8701</td>\n",
       "      <td>0.214336</td>\n",
       "      <td>9511</td>\n",
       "      <td>-0.001139</td>\n",
       "      <td>Daniel E. Singh</td>\n",
       "      <td>X</td>\n",
       "      <td>-0.49039</td>\n",
       "      <td>-0.421415</td>\n",
       "      <td>0</td>\n",
       "      <td>0.028917</td>\n",
       "    </tr>\n",
       "    <tr>\n",
       "      <th>10029</th>\n",
       "      <td>0.000343</td>\n",
       "      <td>8701</td>\n",
       "      <td>0.047670</td>\n",
       "      <td>9510</td>\n",
       "      <td>0.000861</td>\n",
       "      <td>Brandon J. O'Pennell Sr.</td>\n",
       "      <td>X</td>\n",
       "      <td>0.50961</td>\n",
       "      <td>-0.421415</td>\n",
       "      <td>0</td>\n",
       "      <td>0.004278</td>\n",
       "    </tr>\n",
       "    <tr>\n",
       "      <th>35187</th>\n",
       "      <td>0.000972</td>\n",
       "      <td>9409</td>\n",
       "      <td>0.547670</td>\n",
       "      <td>9512</td>\n",
       "      <td>0.010861</td>\n",
       "      <td>Liwen A. Pennell</td>\n",
       "      <td>X</td>\n",
       "      <td>0.50961</td>\n",
       "      <td>-0.088082</td>\n",
       "      <td>0</td>\n",
       "      <td>-0.015554</td>\n",
       "    </tr>\n",
       "    <tr>\n",
       "      <th>5602</th>\n",
       "      <td>0.002602</td>\n",
       "      <td>8610</td>\n",
       "      <td>0.381003</td>\n",
       "      <td>9611</td>\n",
       "      <td>0.056861</td>\n",
       "      <td>Reshama E. O'Harchwani</td>\n",
       "      <td>X</td>\n",
       "      <td>0.176277</td>\n",
       "      <td>-0.088082</td>\n",
       "      <td>0</td>\n",
       "      <td>0.045644</td>\n",
       "    </tr>\n",
       "    <tr>\n",
       "      <th>22826</th>\n",
       "      <td>0.000203</td>\n",
       "      <td>9301</td>\n",
       "      <td>-0.452330</td>\n",
       "      <td>9602</td>\n",
       "      <td>0.000861</td>\n",
       "      <td>Jaesik E. Saini III</td>\n",
       "      <td>X</td>\n",
       "      <td>0.50961</td>\n",
       "      <td>0.245251</td>\n",
       "      <td>0</td>\n",
       "      <td>-0.042998</td>\n",
       "    </tr>\n",
       "  </tbody>\n",
       "</table>\n",
       "</div>"
      ],
      "text/plain": [
       "        AVGGIFT  FISTDATE    INCOME  LASTDATE  LASTGIFT  \\\n",
       "7140  -0.000111      8701  0.214336      9511 -0.001139   \n",
       "10029  0.000343      8701  0.047670      9510  0.000861   \n",
       "35187  0.000972      9409  0.547670      9512  0.010861   \n",
       "5602   0.002602      8610  0.381003      9611  0.056861   \n",
       "22826  0.000203      9301 -0.452330      9602  0.000861   \n",
       "\n",
       "                           NAME PEPSTRFL    RFA_2A    RFA_2F  TARGET_B  \\\n",
       "7140            Daniel E. Singh        X  -0.49039 -0.421415         0   \n",
       "10029  Brandon J. O'Pennell Sr.        X   0.50961 -0.421415         0   \n",
       "35187          Liwen A. Pennell        X   0.50961 -0.088082         0   \n",
       "5602     Reshama E. O'Harchwani        X  0.176277 -0.088082         0   \n",
       "22826       Jaesik E. Saini III        X   0.50961  0.245251         0   \n",
       "\n",
       "       WEALTH_INDEX  \n",
       "7140       0.028917  \n",
       "10029      0.004278  \n",
       "35187     -0.015554  \n",
       "5602       0.045644  \n",
       "22826     -0.042998  "
      ]
     },
     "execution_count": 7,
     "metadata": {},
     "output_type": "execute_result"
    }
   ],
   "source": [
    "# Normalize\n",
    "features_names = [\"AVGGIFT\", \"INCOME\", \"LASTGIFT\", \"RFA_2A\", \"RFA_2F\", \"WEALTH_INDEX\"]\n",
    "for col in features_names:\n",
    "    updated_df[col] = (updated_df[col] - updated_df[col].mean()) / (updated_df[col].max() - updated_df[col].min())\n",
    "\n",
    "updated_df.head()"
   ]
  },
  {
   "cell_type": "code",
   "execution_count": 8,
   "metadata": {
    "collapsed": true
   },
   "outputs": [],
   "source": [
    "features_names = [\"AVGGIFT\", \"INCOME\", \"LASTGIFT\", \"RFA_2A\", \"RFA_2F\", \"WEALTH_INDEX\"]\n",
    "\n",
    "X = []\n",
    "for feature_name in features_names:\n",
    "    X.append(updated_df[feature_name])    \n",
    "X = pd.DataFrame(zip(*X))\n",
    "\n",
    "Y = updated_df[\"TARGET_B\"]\n",
    "\n"
   ]
  },
  {
   "cell_type": "code",
   "execution_count": 9,
   "metadata": {},
   "outputs": [
    {
     "name": "stdout",
     "output_type": "stream",
     "text": [
      "('Dims: trainX, trainY', (28000, 6), (28000L,))\n",
      "('Dims: testX, testY', (7274, 6), (7274L,))\n"
     ]
    }
   ],
   "source": [
    "# Split data\n",
    "\n",
    "trainX = X.iloc[:28000, :]\n",
    "trainY = Y.iloc[:28000]\n",
    "\n",
    "testX = X.iloc[28000:, :]\n",
    "testY = Y.iloc[28000:]\n",
    "\n",
    "print(\"Dims: trainX, trainY\", trainX.shape, trainY.shape)\n",
    "print(\"Dims: testX, testY\", testX.shape, testY.shape)"
   ]
  },
  {
   "cell_type": "code",
   "execution_count": 10,
   "metadata": {},
   "outputs": [
    {
     "name": "stdout",
     "output_type": "stream",
     "text": [
      "          0         1         2         3         4         5\n",
      "0 -0.000111  0.214336 -0.001139 -0.490390 -0.421415  0.028917\n",
      "1  0.000343  0.047670  0.000861  0.509610 -0.421415  0.004278\n",
      "2  0.000972  0.547670  0.010861  0.509610 -0.088082 -0.015554\n",
      "3  0.002602  0.381003  0.056861  0.176277 -0.088082  0.045644\n",
      "4  0.000203 -0.452330  0.000861  0.509610  0.245251 -0.042998\n",
      "7140     0\n",
      "10029    0\n",
      "35187    0\n",
      "5602     0\n",
      "22826    0\n",
      "Name: TARGET_B, dtype: int64\n"
     ]
    }
   ],
   "source": [
    "print trainX.head()\n",
    "print trainY.head()"
   ]
  },
  {
   "cell_type": "code",
   "execution_count": 11,
   "metadata": {
    "scrolled": true
   },
   "outputs": [
    {
     "name": "stdout",
     "output_type": "stream",
     "text": [
      "Gaussian Naive Bayes gave 92.3700852351% accuracy\n",
      "Bernoulli Naive Bayes gave 93.3736596096% accuracy\n",
      "Decision Tree gave 93.3736596096% accuracy\n"
     ]
    }
   ],
   "source": [
    "from sklearn.naive_bayes import  GaussianNB\n",
    "from sklearn.naive_bayes import BernoulliNB\n",
    "from sklearn import tree\n",
    "\n",
    "\n",
    "gnb = GaussianNB()\n",
    "gnb.fit(X=trainX, y=trainY)\n",
    "g_accuracy = gnb.score(testX, testY)\n",
    "print \"Gaussian Naive Bayes gave {acc}% accuracy\".format(acc=g_accuracy*100)\n",
    "\n",
    "bnb = BernoulliNB()\n",
    "bnb.fit(trainX, trainY)\n",
    "b_accuracy = bnb.score(testX, testY)\n",
    "print \"Bernoulli Naive Bayes gave {acc}% accuracy\".format(acc=b_accuracy*100)\n",
    "\n",
    "clf = tree.DecisionTreeClassifier(max_depth=20)\n",
    "clf.fit(trainX, trainY)\n",
    "clf_accuracy = clf.score(X=trainX, y=trainY)\n",
    "print \"Decision Tree gave {acc}% accuracy\".format(acc=b_accuracy*100)"
   ]
  },
  {
   "cell_type": "code",
   "execution_count": null,
   "metadata": {
    "collapsed": true
   },
   "outputs": [],
   "source": []
  }
 ],
 "metadata": {
  "kernelspec": {
   "display_name": "Python 2",
   "language": "python",
   "name": "python2"
  },
  "language_info": {
   "codemirror_mode": {
    "name": "ipython",
    "version": 2
   },
   "file_extension": ".py",
   "mimetype": "text/x-python",
   "name": "python",
   "nbconvert_exporter": "python",
   "pygments_lexer": "ipython2",
   "version": "2.7.14"
  }
 },
 "nbformat": 4,
 "nbformat_minor": 2
}

{
 "cells": [
  {
   "cell_type": "code",
   "execution_count": 2,
   "metadata": {},
   "outputs": [
    {
     "data": {
      "text/html": [
       "<div>\n",
       "<style>\n",
       "    .dataframe thead tr:only-child th {\n",
       "        text-align: right;\n",
       "    }\n",
       "\n",
       "    .dataframe thead th {\n",
       "        text-align: left;\n",
       "    }\n",
       "\n",
       "    .dataframe tbody tr th {\n",
       "        vertical-align: top;\n",
       "    }\n",
       "</style>\n",
       "<table border=\"1\" class=\"dataframe\">\n",
       "  <thead>\n",
       "    <tr style=\"text-align: right;\">\n",
       "      <th></th>\n",
       "      <th>AVGGIFT</th>\n",
       "      <th>FISTDATE</th>\n",
       "      <th>INCOME</th>\n",
       "      <th>LASTDATE</th>\n",
       "      <th>LASTGIFT</th>\n",
       "      <th>NAME</th>\n",
       "      <th>PEPSTRFL</th>\n",
       "      <th>RFA_2A</th>\n",
       "      <th>RFA_2F</th>\n",
       "      <th>TARGET_B</th>\n",
       "      <th>WEALTH_INDEX</th>\n",
       "    </tr>\n",
       "  </thead>\n",
       "  <tbody>\n",
       "    <tr>\n",
       "      <th>24486</th>\n",
       "      <td>6.028571</td>\n",
       "      <td>8706</td>\n",
       "      <td>7</td>\n",
       "      <td>9506</td>\n",
       "      <td>5.0</td>\n",
       "      <td>Douglas L. Aiyangar</td>\n",
       "      <td>X</td>\n",
       "      <td>D</td>\n",
       "      <td>3</td>\n",
       "      <td>0</td>\n",
       "      <td>2.76</td>\n",
       "    </tr>\n",
       "    <tr>\n",
       "      <th>29546</th>\n",
       "      <td>11.900000</td>\n",
       "      <td>8902</td>\n",
       "      <td>2</td>\n",
       "      <td>9506</td>\n",
       "      <td>20.0</td>\n",
       "      <td>Alex N. Hao</td>\n",
       "      <td>X</td>\n",
       "      <td>F</td>\n",
       "      <td>1</td>\n",
       "      <td>0</td>\n",
       "      <td>7.39</td>\n",
       "    </tr>\n",
       "    <tr>\n",
       "      <th>30482</th>\n",
       "      <td>9.851852</td>\n",
       "      <td>8804</td>\n",
       "      <td>5</td>\n",
       "      <td>9601</td>\n",
       "      <td>10.0</td>\n",
       "      <td>Brandon McShi Sr.</td>\n",
       "      <td>X</td>\n",
       "      <td>F</td>\n",
       "      <td>1</td>\n",
       "      <td>0</td>\n",
       "      <td>5.83</td>\n",
       "    </tr>\n",
       "    <tr>\n",
       "      <th>24104</th>\n",
       "      <td>11.333333</td>\n",
       "      <td>9501</td>\n",
       "      <td>7</td>\n",
       "      <td>9510</td>\n",
       "      <td>10.0</td>\n",
       "      <td>Suresh K. Goldston</td>\n",
       "      <td>X</td>\n",
       "      <td>F</td>\n",
       "      <td>4</td>\n",
       "      <td>0</td>\n",
       "      <td>2.61</td>\n",
       "    </tr>\n",
       "    <tr>\n",
       "      <th>32874</th>\n",
       "      <td>9.285714</td>\n",
       "      <td>9501</td>\n",
       "      <td>3</td>\n",
       "      <td>9512</td>\n",
       "      <td>10.0</td>\n",
       "      <td>Brandon U. Jasti</td>\n",
       "      <td>X</td>\n",
       "      <td>E</td>\n",
       "      <td>4</td>\n",
       "      <td>0</td>\n",
       "      <td>3.74</td>\n",
       "    </tr>\n",
       "  </tbody>\n",
       "</table>\n",
       "</div>"
      ],
      "text/plain": [
       "         AVGGIFT  FISTDATE  INCOME  LASTDATE  LASTGIFT                 NAME  \\\n",
       "24486   6.028571      8706       7      9506       5.0  Douglas L. Aiyangar   \n",
       "29546  11.900000      8902       2      9506      20.0          Alex N. Hao   \n",
       "30482   9.851852      8804       5      9601      10.0    Brandon McShi Sr.   \n",
       "24104  11.333333      9501       7      9510      10.0   Suresh K. Goldston   \n",
       "32874   9.285714      9501       3      9512      10.0     Brandon U. Jasti   \n",
       "\n",
       "      PEPSTRFL RFA_2A  RFA_2F  TARGET_B  WEALTH_INDEX  \n",
       "24486        X      D       3         0          2.76  \n",
       "29546        X      F       1         0          7.39  \n",
       "30482        X      F       1         0          5.83  \n",
       "24104        X      F       4         0          2.61  \n",
       "32874        X      E       4         0          3.74  "
      ]
     },
     "execution_count": 2,
     "metadata": {},
     "output_type": "execute_result"
    }
   ],
   "source": [
    "#read data\n",
    "\n",
    "import pandas as pd\n",
    "\n",
    "df = pd.read_json(\"assess2_data.json\")\n",
    "df = df.sample(frac=1)\n",
    "\n",
    "df.head()"
   ]
  },
  {
   "cell_type": "code",
   "execution_count": 3,
   "metadata": {},
   "outputs": [
    {
     "name": "stdout",
     "output_type": "stream",
     "text": [
      "(set([1, 2, 3, 4, 5, 6, 7]), set([u'X']), set([u'-9999', u'E', u'D', u'G', u'F']), set([1, 2, 3, 4]), set([0, 1]))\n"
     ]
    }
   ],
   "source": [
    "print(set(df[\"INCOME\"]), set(df[\"PEPSTRFL\"]), set(df[\"RFA_2A\"]), set(df[\"RFA_2F\"]), set(df[\"TARGET_B\"])) #View unique values for each attribute"
   ]
  },
  {
   "cell_type": "code",
   "execution_count": 4,
   "metadata": {},
   "outputs": [
    {
     "data": {
      "text/plain": [
       "(35275, 11)"
      ]
     },
     "execution_count": 4,
     "metadata": {},
     "output_type": "execute_result"
    }
   ],
   "source": [
    "df.shape"
   ]
  },
  {
   "cell_type": "code",
   "execution_count": 5,
   "metadata": {
    "collapsed": true
   },
   "outputs": [],
   "source": [
    "# Data cleaning\n",
    "updated_df = df[df[\"RFA_2A\"] != \"-9999\"] #remove error value -9999"
   ]
  },
  {
   "cell_type": "code",
   "execution_count": 6,
   "metadata": {},
   "outputs": [
    {
     "data": {
      "text/plain": [
       "(35274, 11)"
      ]
     },
     "execution_count": 6,
     "metadata": {},
     "output_type": "execute_result"
    }
   ],
   "source": [
    "updated_df.shape"
   ]
  },
  {
   "cell_type": "code",
   "execution_count": 7,
   "metadata": {},
   "outputs": [
    {
     "name": "stderr",
     "output_type": "stream",
     "text": [
      "C:\\Users\\Kamran\\Anaconda2\\lib\\site-packages\\ipykernel_launcher.py:11: SettingWithCopyWarning: \n",
      "A value is trying to be set on a copy of a slice from a DataFrame\n",
      "\n",
      "See the caveats in the documentation: http://pandas.pydata.org/pandas-docs/stable/indexing.html#indexing-view-versus-copy\n",
      "  # This is added back by InteractiveShellApp.init_path()\n",
      "C:\\Users\\Kamran\\Anaconda2\\lib\\site-packages\\pandas\\core\\generic.py:5233: SettingWithCopyWarning: \n",
      "A value is trying to be set on a copy of a slice from a DataFrame\n",
      "\n",
      "See the caveats in the documentation: http://pandas.pydata.org/pandas-docs/stable/indexing.html#indexing-view-versus-copy\n",
      "  self._update_inplace(new_data)\n",
      "C:\\Users\\Kamran\\Anaconda2\\lib\\site-packages\\IPython\\core\\interactiveshell.py:2882: SettingWithCopyWarning: \n",
      "A value is trying to be set on a copy of a slice from a DataFrame\n",
      "\n",
      "See the caveats in the documentation: http://pandas.pydata.org/pandas-docs/stable/indexing.html#indexing-view-versus-copy\n",
      "  exec(code_obj, self.user_global_ns, self.user_ns)\n"
     ]
    },
    {
     "data": {
      "text/html": [
       "<div>\n",
       "<style>\n",
       "    .dataframe thead tr:only-child th {\n",
       "        text-align: right;\n",
       "    }\n",
       "\n",
       "    .dataframe thead th {\n",
       "        text-align: left;\n",
       "    }\n",
       "\n",
       "    .dataframe tbody tr th {\n",
       "        vertical-align: top;\n",
       "    }\n",
       "</style>\n",
       "<table border=\"1\" class=\"dataframe\">\n",
       "  <thead>\n",
       "    <tr style=\"text-align: right;\">\n",
       "      <th></th>\n",
       "      <th>AVGGIFT</th>\n",
       "      <th>FISTDATE</th>\n",
       "      <th>INCOME</th>\n",
       "      <th>LASTDATE</th>\n",
       "      <th>LASTGIFT</th>\n",
       "      <th>NAME</th>\n",
       "      <th>PEPSTRFL</th>\n",
       "      <th>RFA_2A</th>\n",
       "      <th>RFA_2F</th>\n",
       "      <th>TARGET_B</th>\n",
       "      <th>WEALTH_INDEX</th>\n",
       "    </tr>\n",
       "  </thead>\n",
       "  <tbody>\n",
       "    <tr>\n",
       "      <th>24486</th>\n",
       "      <td>6.028571</td>\n",
       "      <td>8706</td>\n",
       "      <td>7</td>\n",
       "      <td>9506</td>\n",
       "      <td>5.0</td>\n",
       "      <td>Douglas L. Aiyangar</td>\n",
       "      <td>X</td>\n",
       "      <td>1</td>\n",
       "      <td>3</td>\n",
       "      <td>0</td>\n",
       "      <td>2.76</td>\n",
       "    </tr>\n",
       "    <tr>\n",
       "      <th>29546</th>\n",
       "      <td>11.900000</td>\n",
       "      <td>8902</td>\n",
       "      <td>2</td>\n",
       "      <td>9506</td>\n",
       "      <td>20.0</td>\n",
       "      <td>Alex N. Hao</td>\n",
       "      <td>X</td>\n",
       "      <td>3</td>\n",
       "      <td>1</td>\n",
       "      <td>0</td>\n",
       "      <td>7.39</td>\n",
       "    </tr>\n",
       "    <tr>\n",
       "      <th>30482</th>\n",
       "      <td>9.851852</td>\n",
       "      <td>8804</td>\n",
       "      <td>5</td>\n",
       "      <td>9601</td>\n",
       "      <td>10.0</td>\n",
       "      <td>Brandon McShi Sr.</td>\n",
       "      <td>X</td>\n",
       "      <td>3</td>\n",
       "      <td>1</td>\n",
       "      <td>0</td>\n",
       "      <td>5.83</td>\n",
       "    </tr>\n",
       "    <tr>\n",
       "      <th>24104</th>\n",
       "      <td>11.333333</td>\n",
       "      <td>9501</td>\n",
       "      <td>7</td>\n",
       "      <td>9510</td>\n",
       "      <td>10.0</td>\n",
       "      <td>Suresh K. Goldston</td>\n",
       "      <td>X</td>\n",
       "      <td>3</td>\n",
       "      <td>4</td>\n",
       "      <td>0</td>\n",
       "      <td>2.61</td>\n",
       "    </tr>\n",
       "    <tr>\n",
       "      <th>32874</th>\n",
       "      <td>9.285714</td>\n",
       "      <td>9501</td>\n",
       "      <td>3</td>\n",
       "      <td>9512</td>\n",
       "      <td>10.0</td>\n",
       "      <td>Brandon U. Jasti</td>\n",
       "      <td>X</td>\n",
       "      <td>0</td>\n",
       "      <td>4</td>\n",
       "      <td>0</td>\n",
       "      <td>3.74</td>\n",
       "    </tr>\n",
       "  </tbody>\n",
       "</table>\n",
       "</div>"
      ],
      "text/plain": [
       "         AVGGIFT  FISTDATE  INCOME  LASTDATE  LASTGIFT                 NAME  \\\n",
       "24486   6.028571      8706       7      9506       5.0  Douglas L. Aiyangar   \n",
       "29546  11.900000      8902       2      9506      20.0          Alex N. Hao   \n",
       "30482   9.851852      8804       5      9601      10.0    Brandon McShi Sr.   \n",
       "24104  11.333333      9501       7      9510      10.0   Suresh K. Goldston   \n",
       "32874   9.285714      9501       3      9512      10.0     Brandon U. Jasti   \n",
       "\n",
       "      PEPSTRFL RFA_2A  RFA_2F  TARGET_B  WEALTH_INDEX  \n",
       "24486        X      1       3         0          2.76  \n",
       "29546        X      3       1         0          7.39  \n",
       "30482        X      3       1         0          5.83  \n",
       "24104        X      3       4         0          2.61  \n",
       "32874        X      0       4         0          3.74  "
      ]
     },
     "execution_count": 7,
     "metadata": {},
     "output_type": "execute_result"
    }
   ],
   "source": [
    "# Data cleaninig\n",
    "\n",
    "alpha_to_numeric = {\n",
    "        \"E\": 0,\n",
    "        \"D\": 1,\n",
    "        \"G\": 2,\n",
    "        \"F\": 3\n",
    "}\n",
    "\n",
    "for alpha in alpha_to_numeric.keys():\n",
    "    updated_df[\"RFA_2A\"][updated_df[\"RFA_2A\"] == alpha] = alpha_to_numeric[alpha]\n",
    "\n",
    "updated_df.head()"
   ]
  },
  {
   "cell_type": "code",
   "execution_count": 8,
   "metadata": {},
   "outputs": [
    {
     "name": "stderr",
     "output_type": "stream",
     "text": [
      "C:\\Users\\Kamran\\Anaconda2\\lib\\site-packages\\ipykernel_launcher.py:4: SettingWithCopyWarning: \n",
      "A value is trying to be set on a copy of a slice from a DataFrame.\n",
      "Try using .loc[row_indexer,col_indexer] = value instead\n",
      "\n",
      "See the caveats in the documentation: http://pandas.pydata.org/pandas-docs/stable/indexing.html#indexing-view-versus-copy\n",
      "  after removing the cwd from sys.path.\n"
     ]
    },
    {
     "data": {
      "text/html": [
       "<div>\n",
       "<style>\n",
       "    .dataframe thead tr:only-child th {\n",
       "        text-align: right;\n",
       "    }\n",
       "\n",
       "    .dataframe thead th {\n",
       "        text-align: left;\n",
       "    }\n",
       "\n",
       "    .dataframe tbody tr th {\n",
       "        vertical-align: top;\n",
       "    }\n",
       "</style>\n",
       "<table border=\"1\" class=\"dataframe\">\n",
       "  <thead>\n",
       "    <tr style=\"text-align: right;\">\n",
       "      <th></th>\n",
       "      <th>AVGGIFT</th>\n",
       "      <th>FISTDATE</th>\n",
       "      <th>INCOME</th>\n",
       "      <th>LASTDATE</th>\n",
       "      <th>LASTGIFT</th>\n",
       "      <th>NAME</th>\n",
       "      <th>PEPSTRFL</th>\n",
       "      <th>RFA_2A</th>\n",
       "      <th>RFA_2F</th>\n",
       "      <th>TARGET_B</th>\n",
       "      <th>WEALTH_INDEX</th>\n",
       "    </tr>\n",
       "  </thead>\n",
       "  <tbody>\n",
       "    <tr>\n",
       "      <th>24486</th>\n",
       "      <td>-0.000395</td>\n",
       "      <td>8706</td>\n",
       "      <td>0.547670</td>\n",
       "      <td>9506</td>\n",
       "      <td>-0.019139</td>\n",
       "      <td>Douglas L. Aiyangar</td>\n",
       "      <td>X</td>\n",
       "      <td>-0.157056</td>\n",
       "      <td>0.245251</td>\n",
       "      <td>0</td>\n",
       "      <td>-0.027373</td>\n",
       "    </tr>\n",
       "    <tr>\n",
       "      <th>29546</th>\n",
       "      <td>0.000180</td>\n",
       "      <td>8902</td>\n",
       "      <td>-0.285664</td>\n",
       "      <td>9506</td>\n",
       "      <td>0.010861</td>\n",
       "      <td>Alex N. Hao</td>\n",
       "      <td>X</td>\n",
       "      <td>0.50961</td>\n",
       "      <td>-0.421415</td>\n",
       "      <td>0</td>\n",
       "      <td>0.019002</td>\n",
       "    </tr>\n",
       "    <tr>\n",
       "      <th>30482</th>\n",
       "      <td>-0.000021</td>\n",
       "      <td>8804</td>\n",
       "      <td>0.214336</td>\n",
       "      <td>9601</td>\n",
       "      <td>-0.009139</td>\n",
       "      <td>Brandon McShi Sr.</td>\n",
       "      <td>X</td>\n",
       "      <td>0.50961</td>\n",
       "      <td>-0.421415</td>\n",
       "      <td>0</td>\n",
       "      <td>0.003377</td>\n",
       "    </tr>\n",
       "    <tr>\n",
       "      <th>24104</th>\n",
       "      <td>0.000124</td>\n",
       "      <td>9501</td>\n",
       "      <td>0.547670</td>\n",
       "      <td>9510</td>\n",
       "      <td>-0.009139</td>\n",
       "      <td>Suresh K. Goldston</td>\n",
       "      <td>X</td>\n",
       "      <td>0.50961</td>\n",
       "      <td>0.578585</td>\n",
       "      <td>0</td>\n",
       "      <td>-0.028875</td>\n",
       "    </tr>\n",
       "    <tr>\n",
       "      <th>32874</th>\n",
       "      <td>-0.000076</td>\n",
       "      <td>9501</td>\n",
       "      <td>-0.118997</td>\n",
       "      <td>9512</td>\n",
       "      <td>-0.009139</td>\n",
       "      <td>Brandon U. Jasti</td>\n",
       "      <td>X</td>\n",
       "      <td>-0.49039</td>\n",
       "      <td>0.578585</td>\n",
       "      <td>0</td>\n",
       "      <td>-0.017557</td>\n",
       "    </tr>\n",
       "  </tbody>\n",
       "</table>\n",
       "</div>"
      ],
      "text/plain": [
       "        AVGGIFT  FISTDATE    INCOME  LASTDATE  LASTGIFT                 NAME  \\\n",
       "24486 -0.000395      8706  0.547670      9506 -0.019139  Douglas L. Aiyangar   \n",
       "29546  0.000180      8902 -0.285664      9506  0.010861          Alex N. Hao   \n",
       "30482 -0.000021      8804  0.214336      9601 -0.009139    Brandon McShi Sr.   \n",
       "24104  0.000124      9501  0.547670      9510 -0.009139   Suresh K. Goldston   \n",
       "32874 -0.000076      9501 -0.118997      9512 -0.009139     Brandon U. Jasti   \n",
       "\n",
       "      PEPSTRFL    RFA_2A    RFA_2F  TARGET_B  WEALTH_INDEX  \n",
       "24486        X -0.157056  0.245251         0     -0.027373  \n",
       "29546        X   0.50961 -0.421415         0      0.019002  \n",
       "30482        X   0.50961 -0.421415         0      0.003377  \n",
       "24104        X   0.50961  0.578585         0     -0.028875  \n",
       "32874        X  -0.49039  0.578585         0     -0.017557  "
      ]
     },
     "execution_count": 8,
     "metadata": {},
     "output_type": "execute_result"
    }
   ],
   "source": [
    "# Normalize\n",
    "features_names = [\"AVGGIFT\", \"INCOME\", \"LASTGIFT\", \"RFA_2A\", \"RFA_2F\", \"WEALTH_INDEX\"]\n",
    "for col in features_names:\n",
    "    updated_df[col] = (updated_df[col] - updated_df[col].mean()) / (updated_df[col].max() - updated_df[col].min())\n",
    "\n",
    "updated_df.head()"
   ]
  },
  {
   "cell_type": "code",
   "execution_count": 9,
   "metadata": {
    "collapsed": true
   },
   "outputs": [],
   "source": [
    "features_names = [\"AVGGIFT\", \"INCOME\", \"LASTGIFT\", \"RFA_2A\", \"RFA_2F\", \"WEALTH_INDEX\"]\n",
    "\n",
    "X = []\n",
    "for feature_name in features_names:\n",
    "    X.append(updated_df[feature_name])    \n",
    "X = pd.DataFrame(zip(*X))\n",
    "\n",
    "Y = updated_df[\"TARGET_B\"]\n",
    "\n"
   ]
  },
  {
   "cell_type": "code",
   "execution_count": 10,
   "metadata": {},
   "outputs": [
    {
     "name": "stdout",
     "output_type": "stream",
     "text": [
      "('Dims: trainX, trainY', (28000, 6), (28000L,))\n",
      "('Dims: testX, testY', (7274, 6), (7274L,))\n"
     ]
    }
   ],
   "source": [
    "# Split data\n",
    "\n",
    "trainX = X.iloc[:28000, :]\n",
    "trainY = Y.iloc[:28000]\n",
    "\n",
    "testX = X.iloc[28000:, :]\n",
    "testY = Y.iloc[28000:]\n",
    "\n",
    "print(\"Dims: trainX, trainY\", trainX.shape, trainY.shape)\n",
    "print(\"Dims: testX, testY\", testX.shape, testY.shape)"
   ]
  },
  {
   "cell_type": "code",
   "execution_count": 7,
   "metadata": {},
   "outputs": [
    {
     "name": "stdout",
     "output_type": "stream",
     "text": [
      "          0         1         2        3         4         5\n",
      "0 -0.000033  0.214336 -0.011139 -0.49039  0.578585 -0.032982\n",
      "1  0.000259 -0.452330  0.010861  0.50961 -0.421415 -0.038190\n",
      "2 -0.000426 -0.452330 -0.009139 -0.49039 -0.088082  0.073989\n",
      "3 -0.000006 -0.118997  0.000861  0.50961 -0.421415 -0.038490\n",
      "4  0.000346  0.214336  0.004861  0.50961 -0.088082 -0.036087\n",
      "31752    0\n",
      "31763    0\n",
      "5605     0\n",
      "13808    0\n",
      "27870    0\n",
      "Name: TARGET_B, dtype: int64\n"
     ]
    }
   ],
   "source": [
    "print trainX.head()\n",
    "print trainY.head()"
   ]
  },
  {
   "cell_type": "code",
   "execution_count": 12,
   "metadata": {
    "scrolled": true
   },
   "outputs": [
    {
     "name": "stdout",
     "output_type": "stream",
     "text": [
      "Gaussian Naive Bayes gave 92.9337365961\n",
      "Bernoulli Naive Bayes gave 94.1710200715\n",
      "Decision Tree gave 94.1710200715\n"
     ]
    }
   ],
   "source": [
    "from sklearn.naive_bayes import  GaussianNB\n",
    "from sklearn.naive_bayes import BernoulliNB\n",
    "from sklearn import tree\n",
    "\n",
    "\n",
    "gnb = GaussianNB()\n",
    "gnb.fit(X=trainX, y=trainY)\n",
    "g_accuracy = gnb.score(testX, testY)\n",
    "print \"Gaussian Naive Bayes gave {acc}\".format(acc=g_accuracy*100)\n",
    "\n",
    "bnb = BernoulliNB()\n",
    "bnb.fit(trainX, trainY)\n",
    "b_accuracy = bnb.score(testX, testY)\n",
    "print \"Bernoulli Naive Bayes gave {acc}\".format(acc=b_accuracy*100)\n",
    "\n",
    "clf = tree.DecisionTreeClassifier(max_depth=20)\n",
    "clf.fit(trainX, trainY)\n",
    "clf_accuracy = clf.score(X=trainX, y=trainY)\n",
    "print \"Decision Tree gave {acc}\".format(acc=b_accuracy*100)"
   ]
  }
 ],
 "metadata": {
  "kernelspec": {
   "display_name": "Python 2",
   "language": "python",
   "name": "python2"
  },
  "language_info": {
   "codemirror_mode": {
    "name": "ipython",
    "version": 2
   },
   "file_extension": ".py",
   "mimetype": "text/x-python",
   "name": "python",
   "nbconvert_exporter": "python",
   "pygments_lexer": "ipython2",
   "version": "2.7.14"
  }
 },
 "nbformat": 4,
 "nbformat_minor": 2
}
